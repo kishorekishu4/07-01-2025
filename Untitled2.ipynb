{
  "nbformat": 4,
  "nbformat_minor": 0,
  "metadata": {
    "colab": {
      "provenance": [],
      "authorship_tag": "ABX9TyORDIQbwWGv9cMYM+CxVmCT",
      "include_colab_link": true
    },
    "kernelspec": {
      "name": "python3",
      "display_name": "Python 3"
    },
    "language_info": {
      "name": "python"
    }
  },
  "cells": [
    {
      "cell_type": "markdown",
      "metadata": {
        "id": "view-in-github",
        "colab_type": "text"
      },
      "source": [
        "<a href=\"https://colab.research.google.com/github/kishorekishu4/07-01-2025/blob/main/Untitled2.ipynb\" target=\"_parent\"><img src=\"https://colab.research.google.com/assets/colab-badge.svg\" alt=\"Open In Colab\"/></a>"
      ]
    },
    {
      "cell_type": "code",
      "execution_count": null,
      "metadata": {
        "colab": {
          "base_uri": "https://localhost:8080/"
        },
        "id": "oE6hYNDnm0jy",
        "outputId": "3c4af766-8221-4887-c341-514b6a58f16b"
      },
      "outputs": [
        {
          "output_type": "stream",
          "name": "stdout",
          "text": [
            "Original dataframe:\n",
            "   square_feet_area  Year_built  over_all_condition ready_to_move  Sale_price\n",
            "0            8500.0      2003.0                 5.0           Yes      200000\n",
            "1            9600.0      1976.0                 8.0            No      180000\n",
            "2               NaN      2001.0                 6.0            NO      215000\n",
            "3           11250.0         NaN                 7.0           NaN      250000\n",
            "4               NaN      1998.0                 NaN            No      210000\n",
            "5            9550.0      2000.0                 7.0           NaN      190000\n",
            "6           14260.0      2006.0                 8.0            No      230000\n",
            "7               NaN      1978.0                 6.0           Yes      225000\n",
            "8           13830.0      1950.0                 NaN            No      220000\n",
            "9           11500.0         NaN                 7.0           Yes      240000\n",
            "\n",
            "Updated dataframe:\n",
            "   square_feet_area  Year_built  over_all_condition ready_to_move  Sale_price\n",
            "0       8500.000000      2003.0                5.00           Yes      200000\n",
            "1       9600.000000      1976.0                8.00            No      180000\n",
            "2      11212.857143      2001.0                6.00            No      215000\n",
            "3      11250.000000      1989.0                7.00            No      250000\n",
            "4      11212.857143      1998.0                6.75            No      210000\n",
            "5       9550.000000      2000.0                7.00            No      190000\n",
            "6      14260.000000      2006.0                8.00            No      230000\n",
            "7      11212.857143      1978.0                6.00           Yes      225000\n",
            "8      13830.000000      1950.0                6.75            No      220000\n",
            "9      11500.000000      1989.0                7.00           Yes      240000\n"
          ]
        },
        {
          "output_type": "stream",
          "name": "stderr",
          "text": [
            "<ipython-input-2-3c4d8d0bd494>:27: FutureWarning: A value is trying to be set on a copy of a DataFrame or Series through chained assignment using an inplace method.\n",
            "The behavior will change in pandas 3.0. This inplace method will never work because the intermediate object on which we are setting values always behaves as a copy.\n",
            "\n",
            "For example, when doing 'df[col].method(value, inplace=True)', try using 'df.method({col: value}, inplace=True)' or df[col] = df[col].method(value) instead, to perform the operation inplace on the original object.\n",
            "\n",
            "\n",
            "  df['square_feet_area'].fillna(df['square_feet_area'].mean(), inplace=True)\n",
            "<ipython-input-2-3c4d8d0bd494>:28: FutureWarning: A value is trying to be set on a copy of a DataFrame or Series through chained assignment using an inplace method.\n",
            "The behavior will change in pandas 3.0. This inplace method will never work because the intermediate object on which we are setting values always behaves as a copy.\n",
            "\n",
            "For example, when doing 'df[col].method(value, inplace=True)', try using 'df.method({col: value}, inplace=True)' or df[col] = df[col].method(value) instead, to perform the operation inplace on the original object.\n",
            "\n",
            "\n",
            "  df['Year_built'].fillna(df['Year_built'].mean(), inplace=True)\n",
            "<ipython-input-2-3c4d8d0bd494>:29: FutureWarning: A value is trying to be set on a copy of a DataFrame or Series through chained assignment using an inplace method.\n",
            "The behavior will change in pandas 3.0. This inplace method will never work because the intermediate object on which we are setting values always behaves as a copy.\n",
            "\n",
            "For example, when doing 'df[col].method(value, inplace=True)', try using 'df.method({col: value}, inplace=True)' or df[col] = df[col].method(value) instead, to perform the operation inplace on the original object.\n",
            "\n",
            "\n",
            "  df['over_all_condition'].fillna(df['over_all_condition'].mean(), inplace=True)\n",
            "<ipython-input-2-3c4d8d0bd494>:33: FutureWarning: A value is trying to be set on a copy of a DataFrame or Series through chained assignment using an inplace method.\n",
            "The behavior will change in pandas 3.0. This inplace method will never work because the intermediate object on which we are setting values always behaves as a copy.\n",
            "\n",
            "For example, when doing 'df[col].method(value, inplace=True)', try using 'df.method({col: value}, inplace=True)' or df[col] = df[col].method(value) instead, to perform the operation inplace on the original object.\n",
            "\n",
            "\n",
            "  df['ready_to_move'].fillna(df['ready_to_move'].mode()[0], inplace=True)\n"
          ]
        }
      ],
      "source": [
        "import pandas as pd\n",
        "import numpy as np\n",
        "\n",
        "# Create sample dataset (House Price Dataset with missing values)\n",
        "data = {\n",
        "    'square_feet_area': [8500, 9600, np.nan, 11250, np.nan, 9550, 14260, np.nan, 13830, 11500],  # Numeric\n",
        "    'Year_built': [2003, 1976, 2001, np.nan, 1998, 2000, 2006, 1978, 1950, np.nan],  # Numeric\n",
        "    'over_all_condition': [5, 8, 6, 7, np.nan, 7, 8, 6, np.nan, 7],  # Numeric\n",
        "    'ready_to_move': ['Yes', 'No', 'NO', np.nan, 'No', np.nan, 'No', 'Yes', 'No', 'Yes'],  # Categorical (Yes/No)\n",
        "    'Sale_price': [200000, 180000, 215000, 250000, 210000, 190000, 230000, 225000, 220000, 240000],  # Target Variable (Numeric)\n",
        "}\n",
        "\n",
        "# Create a DataFrame\n",
        "df = pd.DataFrame(data)\n",
        "\n",
        "print(\"Original dataframe:\")\n",
        "print(df)\n",
        "\n",
        "# Handle missing values\n",
        "# Convert 'square_feet_area' to numeric, coerce invalid to NaN\n",
        "df['square_feet_area'] = pd.to_numeric(df['square_feet_area'], errors='coerce')\n",
        "\n",
        "# Convert 'Year_built' to numeric, coerce invalid to NaN\n",
        "df['Year_built'] = pd.to_numeric(df['Year_built'], errors='coerce')\n",
        "\n",
        "# Fill missing values with mean for numeric columns\n",
        "df['square_feet_area'].fillna(df['square_feet_area'].mean(), inplace=True)\n",
        "df['Year_built'].fillna(df['Year_built'].mean(), inplace=True)\n",
        "df['over_all_condition'].fillna(df['over_all_condition'].mean(), inplace=True)\n",
        "\n",
        "# Normalize categorical column and fill missing values with mode\n",
        "df['ready_to_move'] = df['ready_to_move'].str.strip().str.capitalize()  # Normalize (e.g., 'NO' to 'No')\n",
        "df['ready_to_move'].fillna(df['ready_to_move'].mode()[0], inplace=True)\n",
        "\n",
        "# Print updated DataFrame\n",
        "print(\"\\nUpdated dataframe:\")\n",
        "print(df)"
      ]
    }
  ]
}