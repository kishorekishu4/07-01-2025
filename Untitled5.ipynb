{
  "nbformat": 4,
  "nbformat_minor": 0,
  "metadata": {
    "colab": {
      "provenance": [],
      "authorship_tag": "ABX9TyPDFvr5CB+9OtB1ZfaQzIQF",
      "include_colab_link": true
    },
    "kernelspec": {
      "name": "python3",
      "display_name": "Python 3"
    },
    "language_info": {
      "name": "python"
    }
  },
  "cells": [
    {
      "cell_type": "markdown",
      "metadata": {
        "id": "view-in-github",
        "colab_type": "text"
      },
      "source": [
        "<a href=\"https://colab.research.google.com/github/kishorekishu4/07-01-2025/blob/main/Untitled5.ipynb\" target=\"_parent\"><img src=\"https://colab.research.google.com/assets/colab-badge.svg\" alt=\"Open In Colab\"/></a>"
      ]
    },
    {
      "cell_type": "code",
      "source": [
        "import pandas as pd\n",
        "from sklearn.preprocessing import MinMaxScaler\n",
        "\n",
        "data ={\n",
        "    \"age\" : [25,30,35,40,45],\n",
        "    \"height\":[150,160,170,180,190],\n",
        "    \"weight\":[50,60,70,80,90]\n",
        "}\n",
        "df = pd.DataFrame(data)\n",
        "print(df)\n",
        "scaler = MinMaxScaler()\n",
        "normalized_data = scaler.fit_transform(df)\n",
        "normalized_df = pd.DataFrame(normalized_data,columns = df.columns)\n",
        "print(\"\\n Normalized Data frmae (scaled to range[0,1]):\")\n",
        "print(normalized_df)"
      ],
      "metadata": {
        "colab": {
          "base_uri": "https://localhost:8080/"
        },
        "id": "pKck6h7CkLWt",
        "outputId": "2170ce4d-00e3-4a95-c9a0-49bdef5a8987"
      },
      "execution_count": null,
      "outputs": [
        {
          "output_type": "stream",
          "name": "stdout",
          "text": [
            "   age  height  weight\n",
            "0   25     150      50\n",
            "1   30     160      60\n",
            "2   35     170      70\n",
            "3   40     180      80\n",
            "4   45     190      90\n",
            "\n",
            " Normalized Data frmae (scaled to range[0,1]):\n",
            "    age  height  weight\n",
            "0  0.00    0.00    0.00\n",
            "1  0.25    0.25    0.25\n",
            "2  0.50    0.50    0.50\n",
            "3  0.75    0.75    0.75\n",
            "4  1.00    1.00    1.00\n"
          ]
        }
      ]
    }
  ]
}