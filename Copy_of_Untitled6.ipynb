{
  "nbformat": 4,
  "nbformat_minor": 0,
  "metadata": {
    "colab": {
      "provenance": [],
      "authorship_tag": "ABX9TyMZ2ROP5d4zPa5NEf6KSlgl",
      "include_colab_link": true
    },
    "kernelspec": {
      "name": "python3",
      "display_name": "Python 3"
    },
    "language_info": {
      "name": "python"
    }
  },
  "cells": [
    {
      "cell_type": "markdown",
      "metadata": {
        "id": "view-in-github",
        "colab_type": "text"
      },
      "source": [
        "<a href=\"https://colab.research.google.com/github/kishorekishu4/07-01-2025/blob/main/Copy_of_Untitled6.ipynb\" target=\"_parent\"><img src=\"https://colab.research.google.com/assets/colab-badge.svg\" alt=\"Open In Colab\"/></a>"
      ]
    },
    {
      "cell_type": "code",
      "source": [
        "****import pandas as pd\n",
        "from sklearn.preprocessing import OneHotEncoder\n",
        "data = {\n",
        "    \"Customer_id\":[1,2,3,4,5],\n",
        "    \"Gender\":[\"Male\",\"Female\",\"Male\",\"Female\",\"Male\"],\n",
        "    \"City\":[\"Hyderbad\",\"Pune\",\"Banglore\",\"Mumbai\",\"Delhi\"],\n",
        "    \"fruits\":[\"Apple\",\"Banana\",\"Mango\",\"Apple\",\"Banana\"]\n",
        "}\n",
        "\n",
        "df = pd.DataFrame(data)\n",
        "print(df)\n",
        "\n",
        "one_hot_encoder = OneHotEncoder(sparse_output=False)\n",
        "columns_of_encode = [\"Gender\",\"City\",\"fruits\"]\n",
        "encoded_data = one_hot_encoder.fit_transform(df[columns_of_encode])\n",
        "encode_colums=one_hot_encoder.get_feature_names_out(columns_of_encode)\n",
        "encoded_df = pd.DataFrame(encoded_data,columns=encode_colums)\n",
        "print(\"\\n Encoded Data Frame:\")\n",
        "print(encoded_df)"
      ],
      "metadata": {
        "colab": {
          "base_uri": "https://localhost:8080/"
        },
        "id": "1VusA11Fv09s",
        "outputId": "b1fdebbe-25e7-4476-a16a-327f6ad9d622"
      },
      "execution_count": null,
      "outputs": [
        {
          "output_type": "stream",
          "name": "stdout",
          "text": [
            "   Customer_id  Gender      City  fruits\n",
            "0            1    Male  Hyderbad   Apple\n",
            "1            2  Female      Pune  Banana\n",
            "2            3    Male  Banglore   Mango\n",
            "3            4  Female    Mumbai   Apple\n",
            "4            5    Male     Delhi  Banana\n",
            "\n",
            " Encoded Data Frame:\n",
            "   Gender_Female  Gender_Male  City_Banglore  City_Delhi  City_Hyderbad  \\\n",
            "0            0.0          1.0            0.0         0.0            1.0   \n",
            "1            1.0          0.0            0.0         0.0            0.0   \n",
            "2            0.0          1.0            1.0         0.0            0.0   \n",
            "3            1.0          0.0            0.0         0.0            0.0   \n",
            "4            0.0          1.0            0.0         1.0            0.0   \n",
            "\n",
            "   City_Mumbai  City_Pune  fruits_Apple  fruits_Banana  fruits_Mango  \n",
            "0          0.0        0.0           1.0            0.0           0.0  \n",
            "1          0.0        1.0           0.0            1.0           0.0  \n",
            "2          0.0        0.0           0.0            0.0           1.0  \n",
            "3          1.0        0.0           1.0            0.0           0.0  \n",
            "4          0.0        0.0           0.0            1.0           0.0  \n"
          ]
        }
      ]
    },
    {
      "cell_type": "code",
      "source": [
        "import pandas as pd\n",
        "from sklearn.preprocessing import LabelEncoder\n",
        "data = {\n",
        "    \"Customer_id\":[1,2,3,4,5],\n",
        "    \"Gender\":[\"Male\",\"Female\",\"Male\",\"Female\",\"Male\"],\n",
        "    \"City\":[\"Hyderbad\",\"Pune\",\"Banglore\",\"Mumbai\",\"Delhi\"],\n",
        "    \"fruits\":[\"Apple\",\"Banana\",\"Mango\",\"Apple\",\"Banana\"]\n",
        "}\n",
        "\n",
        "df = pd.DataFrame(data)\n",
        "print(df)\n",
        "label_encoder = LabelEncoder()\n",
        "df[\"Gender_encoded\"] = label_encoder.fit_transform(df[\"Gender\"])\n",
        "df[\"fruits_encoded\"] = label_encoder.fit_transform(df[\"fruits\"])\n",
        "print(df)"
      ],
      "metadata": {
        "colab": {
          "base_uri": "https://localhost:8080/"
        },
        "id": "hAXt1r_TwcN-",
        "outputId": "c2a537e4-1ee6-4f41-c711-ddae8c3d4c6d"
      },
      "execution_count": null,
      "outputs": [
        {
          "output_type": "stream",
          "name": "stdout",
          "text": [
            "   Customer_id  Gender      City  fruits\n",
            "0            1    Male  Hyderbad   Apple\n",
            "1            2  Female      Pune  Banana\n",
            "2            3    Male  Banglore   Mango\n",
            "3            4  Female    Mumbai   Apple\n",
            "4            5    Male     Delhi  Banana\n",
            "   Customer_id  Gender      City  fruits  Gender_encoded  fruits_encoded\n",
            "0            1    Male  Hyderbad   Apple               1               0\n",
            "1            2  Female      Pune  Banana               0               1\n",
            "2            3    Male  Banglore   Mango               1               2\n",
            "3            4  Female    Mumbai   Apple               0               0\n",
            "4            5    Male     Delhi  Banana               1               1\n"
          ]
        }
      ]
    }
  ]
}