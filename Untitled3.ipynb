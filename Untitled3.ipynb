{
  "nbformat": 4,
  "nbformat_minor": 0,
  "metadata": {
    "colab": {
      "provenance": [],
      "authorship_tag": "ABX9TyO06dV8/WBV/WGOZVSuNJb5",
      "include_colab_link": true
    },
    "kernelspec": {
      "name": "python3",
      "display_name": "Python 3"
    },
    "language_info": {
      "name": "python"
    }
  },
  "cells": [
    {
      "cell_type": "markdown",
      "metadata": {
        "id": "view-in-github",
        "colab_type": "text"
      },
      "source": [
        "<a href=\"https://colab.research.google.com/github/kishorekishu4/07-01-2025/blob/main/Untitled3.ipynb\" target=\"_parent\"><img src=\"https://colab.research.google.com/assets/colab-badge.svg\" alt=\"Open In Colab\"/></a>"
      ]
    },
    {
      "cell_type": "code",
      "execution_count": null,
      "metadata": {
        "colab": {
          "base_uri": "https://localhost:8080/"
        },
        "id": "9uefLjHigt68",
        "outputId": "f8b9f847-87fd-4858-aa2c-319dbbbc2c2b"
      },
      "outputs": [
        {
          "output_type": "stream",
          "name": "stdout",
          "text": [
            "         value\n",
            "100  10.117476\n",
            "101   8.092543\n",
            "102   9.077091\n",
            "103  10.469751\n",
            "104   9.855633\n",
            "105   9.599862\n",
            "106   9.704016\n",
            "107  10.848209\n",
            "108  10.706830\n",
            "109   9.212731\n"
          ]
        }
      ],
      "source": [
        "import pandas as pd\n",
        "import numpy as np\n",
        "import matplotlib.pyplot as plt\n",
        "import seaborn as sns\n",
        "np.random.seed(10)\n",
        "data = pd.DataFrame({\n",
        "    'value': np.concatenate([np.random.normal(0,1,100),np.random.normal(10,1,10)])\n",
        "})\n",
        "\n",
        "Q1 = data['value'].quantile(0.25)\n",
        "Q3 = data['value'].quantile(0.75)\n",
        "IQR = Q3 - Q1\n",
        "lower_bound = Q1 - 1.5 * IQR\n",
        "upper_bound = Q3 + 1.5 * IQR\n",
        "\n",
        "Outliers = data[(data['value'] < lower_bound) | (data['value'] > upper_bound)]\n",
        "print(Outliers)"
      ]
    }
  ]
}